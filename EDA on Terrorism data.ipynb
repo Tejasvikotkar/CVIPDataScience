{
 "cells": [
  {
   "cell_type": "markdown",
   "id": "5339e226",
   "metadata": {},
   "source": [
    "## EDA on Terrorism Data"
   ]
  },
  {
   "cell_type": "code",
   "execution_count": 1,
   "id": "e9e3bfe0",
   "metadata": {},
   "outputs": [],
   "source": [
    "import pandas as pd\n",
    "import numpy as np\n",
    "import matplotlib.pyplot as plt"
   ]
  },
  {
   "cell_type": "markdown",
   "id": "43e91b42",
   "metadata": {},
   "source": [
    "### Import Data"
   ]
  },
  {
   "cell_type": "code",
   "execution_count": 2,
   "id": "ad2b2bad",
   "metadata": {},
   "outputs": [],
   "source": [
    "df=pd.read_csv(r\"C:\\Users\\Tejasvi\\Downloads\\terrorismData.csv\")"
   ]
  },
  {
   "cell_type": "code",
   "execution_count": 3,
   "id": "d3917244",
   "metadata": {},
   "outputs": [
    {
     "data": {
      "text/html": [
       "<div>\n",
       "<style scoped>\n",
       "    .dataframe tbody tr th:only-of-type {\n",
       "        vertical-align: middle;\n",
       "    }\n",
       "\n",
       "    .dataframe tbody tr th {\n",
       "        vertical-align: top;\n",
       "    }\n",
       "\n",
       "    .dataframe thead th {\n",
       "        text-align: right;\n",
       "    }\n",
       "</style>\n",
       "<table border=\"1\" class=\"dataframe\">\n",
       "  <thead>\n",
       "    <tr style=\"text-align: right;\">\n",
       "      <th></th>\n",
       "      <th>Year</th>\n",
       "      <th>Month</th>\n",
       "      <th>Day</th>\n",
       "      <th>Country</th>\n",
       "      <th>State</th>\n",
       "      <th>Region</th>\n",
       "      <th>City</th>\n",
       "      <th>Latitude</th>\n",
       "      <th>Longitude</th>\n",
       "      <th>AttackType</th>\n",
       "      <th>Killed</th>\n",
       "      <th>Wounded</th>\n",
       "      <th>Target</th>\n",
       "      <th>Summary</th>\n",
       "      <th>Group</th>\n",
       "      <th>Target_type</th>\n",
       "      <th>Weapon_type</th>\n",
       "    </tr>\n",
       "  </thead>\n",
       "  <tbody>\n",
       "    <tr>\n",
       "      <th>0</th>\n",
       "      <td>1970</td>\n",
       "      <td>7</td>\n",
       "      <td>2</td>\n",
       "      <td>Dominican Republic</td>\n",
       "      <td>NaN</td>\n",
       "      <td>Central America &amp; Caribbean</td>\n",
       "      <td>Santo Domingo</td>\n",
       "      <td>18.456792</td>\n",
       "      <td>-69.951164</td>\n",
       "      <td>Assassination</td>\n",
       "      <td>1.0</td>\n",
       "      <td>0.0</td>\n",
       "      <td>Julio Guzman</td>\n",
       "      <td>NaN</td>\n",
       "      <td>MANO-D</td>\n",
       "      <td>Private Citizens &amp; Property</td>\n",
       "      <td>Unknown</td>\n",
       "    </tr>\n",
       "    <tr>\n",
       "      <th>1</th>\n",
       "      <td>1970</td>\n",
       "      <td>0</td>\n",
       "      <td>0</td>\n",
       "      <td>Mexico</td>\n",
       "      <td>Federal</td>\n",
       "      <td>North America</td>\n",
       "      <td>Mexico city</td>\n",
       "      <td>19.371887</td>\n",
       "      <td>-99.086624</td>\n",
       "      <td>Hostage Taking (Kidnapping)</td>\n",
       "      <td>0.0</td>\n",
       "      <td>0.0</td>\n",
       "      <td>Nadine Chaval, daughter</td>\n",
       "      <td>NaN</td>\n",
       "      <td>23rd of September Communist League</td>\n",
       "      <td>Government (Diplomatic)</td>\n",
       "      <td>Unknown</td>\n",
       "    </tr>\n",
       "    <tr>\n",
       "      <th>2</th>\n",
       "      <td>1970</td>\n",
       "      <td>1</td>\n",
       "      <td>0</td>\n",
       "      <td>Philippines</td>\n",
       "      <td>Tarlac</td>\n",
       "      <td>Southeast Asia</td>\n",
       "      <td>Unknown</td>\n",
       "      <td>15.478598</td>\n",
       "      <td>120.599741</td>\n",
       "      <td>Assassination</td>\n",
       "      <td>1.0</td>\n",
       "      <td>0.0</td>\n",
       "      <td>Employee</td>\n",
       "      <td>NaN</td>\n",
       "      <td>Unknown</td>\n",
       "      <td>Journalists &amp; Media</td>\n",
       "      <td>Unknown</td>\n",
       "    </tr>\n",
       "    <tr>\n",
       "      <th>3</th>\n",
       "      <td>1970</td>\n",
       "      <td>1</td>\n",
       "      <td>0</td>\n",
       "      <td>Greece</td>\n",
       "      <td>Attica</td>\n",
       "      <td>Western Europe</td>\n",
       "      <td>Athens</td>\n",
       "      <td>37.997490</td>\n",
       "      <td>23.762728</td>\n",
       "      <td>Bombing/Explosion</td>\n",
       "      <td>NaN</td>\n",
       "      <td>NaN</td>\n",
       "      <td>U.S. Embassy</td>\n",
       "      <td>NaN</td>\n",
       "      <td>Unknown</td>\n",
       "      <td>Government (Diplomatic)</td>\n",
       "      <td>Explosives</td>\n",
       "    </tr>\n",
       "    <tr>\n",
       "      <th>4</th>\n",
       "      <td>1970</td>\n",
       "      <td>1</td>\n",
       "      <td>0</td>\n",
       "      <td>Japan</td>\n",
       "      <td>Fukouka</td>\n",
       "      <td>East Asia</td>\n",
       "      <td>Fukouka</td>\n",
       "      <td>33.580412</td>\n",
       "      <td>130.396361</td>\n",
       "      <td>Facility/Infrastructure Attack</td>\n",
       "      <td>NaN</td>\n",
       "      <td>NaN</td>\n",
       "      <td>U.S. Consulate</td>\n",
       "      <td>NaN</td>\n",
       "      <td>Unknown</td>\n",
       "      <td>Government (Diplomatic)</td>\n",
       "      <td>Incendiary</td>\n",
       "    </tr>\n",
       "  </tbody>\n",
       "</table>\n",
       "</div>"
      ],
      "text/plain": [
       "   Year  Month  Day             Country    State                       Region  \\\n",
       "0  1970      7    2  Dominican Republic      NaN  Central America & Caribbean   \n",
       "1  1970      0    0              Mexico  Federal                North America   \n",
       "2  1970      1    0         Philippines   Tarlac               Southeast Asia   \n",
       "3  1970      1    0              Greece   Attica               Western Europe   \n",
       "4  1970      1    0               Japan  Fukouka                    East Asia   \n",
       "\n",
       "            City   Latitude   Longitude                      AttackType  \\\n",
       "0  Santo Domingo  18.456792  -69.951164                   Assassination   \n",
       "1    Mexico city  19.371887  -99.086624     Hostage Taking (Kidnapping)   \n",
       "2        Unknown  15.478598  120.599741                   Assassination   \n",
       "3         Athens  37.997490   23.762728               Bombing/Explosion   \n",
       "4        Fukouka  33.580412  130.396361  Facility/Infrastructure Attack   \n",
       "\n",
       "   Killed  Wounded                   Target Summary  \\\n",
       "0     1.0      0.0             Julio Guzman     NaN   \n",
       "1     0.0      0.0  Nadine Chaval, daughter     NaN   \n",
       "2     1.0      0.0                 Employee     NaN   \n",
       "3     NaN      NaN             U.S. Embassy     NaN   \n",
       "4     NaN      NaN           U.S. Consulate     NaN   \n",
       "\n",
       "                                Group                  Target_type Weapon_type  \n",
       "0                              MANO-D  Private Citizens & Property     Unknown  \n",
       "1  23rd of September Communist League      Government (Diplomatic)     Unknown  \n",
       "2                             Unknown          Journalists & Media     Unknown  \n",
       "3                             Unknown      Government (Diplomatic)  Explosives  \n",
       "4                             Unknown      Government (Diplomatic)  Incendiary  "
      ]
     },
     "execution_count": 3,
     "metadata": {},
     "output_type": "execute_result"
    }
   ],
   "source": [
    "df.head()"
   ]
  },
  {
   "cell_type": "code",
   "execution_count": 4,
   "id": "285dd383",
   "metadata": {},
   "outputs": [
    {
     "data": {
      "text/plain": [
       "(181691, 17)"
      ]
     },
     "execution_count": 4,
     "metadata": {},
     "output_type": "execute_result"
    }
   ],
   "source": [
    "df.shape"
   ]
  },
  {
   "cell_type": "markdown",
   "id": "4245f785",
   "metadata": {},
   "source": [
    "### Checking null values"
   ]
  },
  {
   "cell_type": "code",
   "execution_count": 5,
   "id": "4ea50296",
   "metadata": {},
   "outputs": [
    {
     "data": {
      "text/plain": [
       "Year               0\n",
       "Month              0\n",
       "Day                0\n",
       "Country            0\n",
       "State            421\n",
       "Region             0\n",
       "City             434\n",
       "Latitude        4556\n",
       "Longitude       4557\n",
       "AttackType         0\n",
       "Killed         10313\n",
       "Wounded        16311\n",
       "Target           636\n",
       "Summary        66129\n",
       "Group              0\n",
       "Target_type        0\n",
       "Weapon_type        0\n",
       "dtype: int64"
      ]
     },
     "execution_count": 5,
     "metadata": {},
     "output_type": "execute_result"
    }
   ],
   "source": [
    "df.isnull().sum()"
   ]
  },
  {
   "cell_type": "markdown",
   "id": "375a085d",
   "metadata": {},
   "source": [
    "### Dropping the columns contains large null values"
   ]
  },
  {
   "cell_type": "code",
   "execution_count": 6,
   "id": "42a9a1a4",
   "metadata": {},
   "outputs": [],
   "source": [
    "df1=df.drop(['Latitude','Longitude','Killed','Wounded','Summary'],axis=1)"
   ]
  },
  {
   "cell_type": "code",
   "execution_count": null,
   "id": "6897d5ba",
   "metadata": {},
   "outputs": [],
   "source": [
    "## Drop null values"
   ]
  },
  {
   "cell_type": "code",
   "execution_count": 7,
   "id": "e5a6834b",
   "metadata": {},
   "outputs": [],
   "source": [
    "df1=df1.dropna()"
   ]
  },
  {
   "cell_type": "code",
   "execution_count": 8,
   "id": "eecf7680",
   "metadata": {},
   "outputs": [
    {
     "data": {
      "text/html": [
       "<div>\n",
       "<style scoped>\n",
       "    .dataframe tbody tr th:only-of-type {\n",
       "        vertical-align: middle;\n",
       "    }\n",
       "\n",
       "    .dataframe tbody tr th {\n",
       "        vertical-align: top;\n",
       "    }\n",
       "\n",
       "    .dataframe thead th {\n",
       "        text-align: right;\n",
       "    }\n",
       "</style>\n",
       "<table border=\"1\" class=\"dataframe\">\n",
       "  <thead>\n",
       "    <tr style=\"text-align: right;\">\n",
       "      <th></th>\n",
       "      <th>Year</th>\n",
       "      <th>Month</th>\n",
       "      <th>Day</th>\n",
       "      <th>Country</th>\n",
       "      <th>State</th>\n",
       "      <th>Region</th>\n",
       "      <th>City</th>\n",
       "      <th>AttackType</th>\n",
       "      <th>Target</th>\n",
       "      <th>Group</th>\n",
       "      <th>Target_type</th>\n",
       "      <th>Weapon_type</th>\n",
       "    </tr>\n",
       "  </thead>\n",
       "  <tbody>\n",
       "    <tr>\n",
       "      <th>1</th>\n",
       "      <td>1970</td>\n",
       "      <td>0</td>\n",
       "      <td>0</td>\n",
       "      <td>Mexico</td>\n",
       "      <td>Federal</td>\n",
       "      <td>North America</td>\n",
       "      <td>Mexico city</td>\n",
       "      <td>Hostage Taking (Kidnapping)</td>\n",
       "      <td>Nadine Chaval, daughter</td>\n",
       "      <td>23rd of September Communist League</td>\n",
       "      <td>Government (Diplomatic)</td>\n",
       "      <td>Unknown</td>\n",
       "    </tr>\n",
       "    <tr>\n",
       "      <th>2</th>\n",
       "      <td>1970</td>\n",
       "      <td>1</td>\n",
       "      <td>0</td>\n",
       "      <td>Philippines</td>\n",
       "      <td>Tarlac</td>\n",
       "      <td>Southeast Asia</td>\n",
       "      <td>Unknown</td>\n",
       "      <td>Assassination</td>\n",
       "      <td>Employee</td>\n",
       "      <td>Unknown</td>\n",
       "      <td>Journalists &amp; Media</td>\n",
       "      <td>Unknown</td>\n",
       "    </tr>\n",
       "    <tr>\n",
       "      <th>3</th>\n",
       "      <td>1970</td>\n",
       "      <td>1</td>\n",
       "      <td>0</td>\n",
       "      <td>Greece</td>\n",
       "      <td>Attica</td>\n",
       "      <td>Western Europe</td>\n",
       "      <td>Athens</td>\n",
       "      <td>Bombing/Explosion</td>\n",
       "      <td>U.S. Embassy</td>\n",
       "      <td>Unknown</td>\n",
       "      <td>Government (Diplomatic)</td>\n",
       "      <td>Explosives</td>\n",
       "    </tr>\n",
       "    <tr>\n",
       "      <th>4</th>\n",
       "      <td>1970</td>\n",
       "      <td>1</td>\n",
       "      <td>0</td>\n",
       "      <td>Japan</td>\n",
       "      <td>Fukouka</td>\n",
       "      <td>East Asia</td>\n",
       "      <td>Fukouka</td>\n",
       "      <td>Facility/Infrastructure Attack</td>\n",
       "      <td>U.S. Consulate</td>\n",
       "      <td>Unknown</td>\n",
       "      <td>Government (Diplomatic)</td>\n",
       "      <td>Incendiary</td>\n",
       "    </tr>\n",
       "    <tr>\n",
       "      <th>5</th>\n",
       "      <td>1970</td>\n",
       "      <td>1</td>\n",
       "      <td>1</td>\n",
       "      <td>United States</td>\n",
       "      <td>Illinois</td>\n",
       "      <td>North America</td>\n",
       "      <td>Cairo</td>\n",
       "      <td>Armed Assault</td>\n",
       "      <td>Cairo Police Headquarters</td>\n",
       "      <td>Black Nationalists</td>\n",
       "      <td>Police</td>\n",
       "      <td>Firearms</td>\n",
       "    </tr>\n",
       "  </tbody>\n",
       "</table>\n",
       "</div>"
      ],
      "text/plain": [
       "   Year  Month  Day        Country     State          Region         City  \\\n",
       "1  1970      0    0         Mexico   Federal   North America  Mexico city   \n",
       "2  1970      1    0    Philippines    Tarlac  Southeast Asia      Unknown   \n",
       "3  1970      1    0         Greece    Attica  Western Europe       Athens   \n",
       "4  1970      1    0          Japan   Fukouka       East Asia      Fukouka   \n",
       "5  1970      1    1  United States  Illinois   North America        Cairo   \n",
       "\n",
       "                       AttackType                     Target  \\\n",
       "1     Hostage Taking (Kidnapping)    Nadine Chaval, daughter   \n",
       "2                   Assassination                   Employee   \n",
       "3               Bombing/Explosion               U.S. Embassy   \n",
       "4  Facility/Infrastructure Attack             U.S. Consulate   \n",
       "5                   Armed Assault  Cairo Police Headquarters   \n",
       "\n",
       "                                Group              Target_type Weapon_type  \n",
       "1  23rd of September Communist League  Government (Diplomatic)     Unknown  \n",
       "2                             Unknown      Journalists & Media     Unknown  \n",
       "3                             Unknown  Government (Diplomatic)  Explosives  \n",
       "4                             Unknown  Government (Diplomatic)  Incendiary  \n",
       "5                  Black Nationalists                   Police    Firearms  "
      ]
     },
     "execution_count": 8,
     "metadata": {},
     "output_type": "execute_result"
    }
   ],
   "source": [
    "df1.head()"
   ]
  },
  {
   "cell_type": "code",
   "execution_count": 9,
   "id": "f539cae1",
   "metadata": {},
   "outputs": [
    {
     "data": {
      "text/plain": [
       "Year           0\n",
       "Month          0\n",
       "Day            0\n",
       "Country        0\n",
       "State          0\n",
       "Region         0\n",
       "City           0\n",
       "AttackType     0\n",
       "Target         0\n",
       "Group          0\n",
       "Target_type    0\n",
       "Weapon_type    0\n",
       "dtype: int64"
      ]
     },
     "execution_count": 9,
     "metadata": {},
     "output_type": "execute_result"
    }
   ],
   "source": [
    "df1.isnull().sum()"
   ]
  },
  {
   "cell_type": "code",
   "execution_count": 10,
   "id": "a5bb00b4",
   "metadata": {},
   "outputs": [
    {
     "data": {
      "text/plain": [
       "(180207, 12)"
      ]
     },
     "execution_count": 10,
     "metadata": {},
     "output_type": "execute_result"
    }
   ],
   "source": [
    "df1.shape"
   ]
  },
  {
   "cell_type": "code",
   "execution_count": 11,
   "id": "d1712d1a",
   "metadata": {},
   "outputs": [
    {
     "name": "stdout",
     "output_type": "stream",
     "text": [
      "<class 'pandas.core.frame.DataFrame'>\n",
      "Int64Index: 180207 entries, 1 to 181690\n",
      "Data columns (total 12 columns):\n",
      " #   Column       Non-Null Count   Dtype \n",
      "---  ------       --------------   ----- \n",
      " 0   Year         180207 non-null  int64 \n",
      " 1   Month        180207 non-null  int64 \n",
      " 2   Day          180207 non-null  int64 \n",
      " 3   Country      180207 non-null  object\n",
      " 4   State        180207 non-null  object\n",
      " 5   Region       180207 non-null  object\n",
      " 6   City         180207 non-null  object\n",
      " 7   AttackType   180207 non-null  object\n",
      " 8   Target       180207 non-null  object\n",
      " 9   Group        180207 non-null  object\n",
      " 10  Target_type  180207 non-null  object\n",
      " 11  Weapon_type  180207 non-null  object\n",
      "dtypes: int64(3), object(9)\n",
      "memory usage: 17.9+ MB\n"
     ]
    }
   ],
   "source": [
    "df1.info()"
   ]
  },
  {
   "cell_type": "code",
   "execution_count": 12,
   "id": "150dd1c1",
   "metadata": {},
   "outputs": [
    {
     "data": {
      "text/html": [
       "<div>\n",
       "<style scoped>\n",
       "    .dataframe tbody tr th:only-of-type {\n",
       "        vertical-align: middle;\n",
       "    }\n",
       "\n",
       "    .dataframe tbody tr th {\n",
       "        vertical-align: top;\n",
       "    }\n",
       "\n",
       "    .dataframe thead th {\n",
       "        text-align: right;\n",
       "    }\n",
       "</style>\n",
       "<table border=\"1\" class=\"dataframe\">\n",
       "  <thead>\n",
       "    <tr style=\"text-align: right;\">\n",
       "      <th></th>\n",
       "      <th>Year</th>\n",
       "      <th>Month</th>\n",
       "      <th>Day</th>\n",
       "    </tr>\n",
       "  </thead>\n",
       "  <tbody>\n",
       "    <tr>\n",
       "      <th>count</th>\n",
       "      <td>180207.000000</td>\n",
       "      <td>180207.000000</td>\n",
       "      <td>180207.000000</td>\n",
       "    </tr>\n",
       "    <tr>\n",
       "      <th>mean</th>\n",
       "      <td>2002.696804</td>\n",
       "      <td>6.470598</td>\n",
       "      <td>15.507133</td>\n",
       "    </tr>\n",
       "    <tr>\n",
       "      <th>std</th>\n",
       "      <td>13.253717</td>\n",
       "      <td>3.387741</td>\n",
       "      <td>8.814350</td>\n",
       "    </tr>\n",
       "    <tr>\n",
       "      <th>min</th>\n",
       "      <td>1970.000000</td>\n",
       "      <td>0.000000</td>\n",
       "      <td>0.000000</td>\n",
       "    </tr>\n",
       "    <tr>\n",
       "      <th>25%</th>\n",
       "      <td>1991.000000</td>\n",
       "      <td>4.000000</td>\n",
       "      <td>8.000000</td>\n",
       "    </tr>\n",
       "    <tr>\n",
       "      <th>50%</th>\n",
       "      <td>2009.000000</td>\n",
       "      <td>6.000000</td>\n",
       "      <td>15.000000</td>\n",
       "    </tr>\n",
       "    <tr>\n",
       "      <th>75%</th>\n",
       "      <td>2014.000000</td>\n",
       "      <td>9.000000</td>\n",
       "      <td>23.000000</td>\n",
       "    </tr>\n",
       "    <tr>\n",
       "      <th>max</th>\n",
       "      <td>2017.000000</td>\n",
       "      <td>12.000000</td>\n",
       "      <td>31.000000</td>\n",
       "    </tr>\n",
       "  </tbody>\n",
       "</table>\n",
       "</div>"
      ],
      "text/plain": [
       "                Year          Month            Day\n",
       "count  180207.000000  180207.000000  180207.000000\n",
       "mean     2002.696804       6.470598      15.507133\n",
       "std        13.253717       3.387741       8.814350\n",
       "min      1970.000000       0.000000       0.000000\n",
       "25%      1991.000000       4.000000       8.000000\n",
       "50%      2009.000000       6.000000      15.000000\n",
       "75%      2014.000000       9.000000      23.000000\n",
       "max      2017.000000      12.000000      31.000000"
      ]
     },
     "execution_count": 12,
     "metadata": {},
     "output_type": "execute_result"
    }
   ],
   "source": [
    "df1.describe()"
   ]
  },
  {
   "cell_type": "markdown",
   "id": "5293f8a4",
   "metadata": {},
   "source": [
    "### Top 10 Countries with Highest Terrorist attacks"
   ]
  },
  {
   "cell_type": "code",
   "execution_count": 13,
   "id": "4cc6e399",
   "metadata": {},
   "outputs": [
    {
     "data": {
      "text/plain": [
       "Iraq              24578\n",
       "Pakistan          14337\n",
       "Afghanistan       12578\n",
       "India             11918\n",
       "Colombia           8289\n",
       "Philippines        6901\n",
       "Peru               6060\n",
       "El Salvador        5264\n",
       "United Kingdom     5219\n",
       "Turkey             4283\n",
       "Name: Country, dtype: int64"
      ]
     },
     "execution_count": 13,
     "metadata": {},
     "output_type": "execute_result"
    }
   ],
   "source": [
    "values=df1.Country.value_counts()[:10]\n",
    "values"
   ]
  },
  {
   "cell_type": "code",
   "execution_count": 14,
   "id": "c17905a1",
   "metadata": {},
   "outputs": [
    {
     "data": {
      "text/plain": [
       "Index(['Iraq', 'Pakistan', 'Afghanistan', 'India', 'Colombia', 'Philippines',\n",
       "       'Peru', 'El Salvador', 'United Kingdom', 'Turkey'],\n",
       "      dtype='object')"
      ]
     },
     "execution_count": 14,
     "metadata": {},
     "output_type": "execute_result"
    }
   ],
   "source": [
    "country=df1.Country.value_counts()[:10].index\n",
    "country"
   ]
  },
  {
   "cell_type": "code",
   "execution_count": 15,
   "id": "3215ccbb",
   "metadata": {},
   "outputs": [
    {
     "data": {
      "image/png": "[encoded data removed]",
      "text/plain": [
       "<Figure size 1080x432 with 1 Axes>"
      ]
     },
     "metadata": {
      "needs_background": "light"
     },
     "output_type": "display_data"
    }
   ],
   "source": [
    "plt.figure(figsize=(15,6))\n",
    "plt.bar(country,values,color='green')\n",
    "plt.xlabel('Country')\n",
    "plt.ylabel('Number of Terrorist attacks')\n",
    "plt.title('Top 10 Countries with Highest Terrorist attacks')\n",
    "plt.show()"
   ]
  },
  {
   "cell_type": "markdown",
   "id": "255febdf",
   "metadata": {},
   "source": [
    "### Region wise terrorist attacks"
   ]
  },
  {
   "cell_type": "code",
   "execution_count": 18,
   "id": "a9284aec",
   "metadata": {},
   "outputs": [
    {
     "data": {
      "text/plain": [
       "Middle East & North Africa     50249\n",
       "South Asia                     44710\n",
       "South America                  18910\n",
       "Sub-Saharan Africa             17519\n",
       "Western Europe                 16511\n",
       "Southeast Asia                 12152\n",
       "Central America & Caribbean    10157\n",
       "Eastern Europe                  5050\n",
       "North America                   3382\n",
       "East Asia                        764\n",
       "Central Asia                     544\n",
       "Australasia & Oceania            259\n",
       "Name: Region, dtype: int64"
      ]
     },
     "execution_count": 18,
     "metadata": {},
     "output_type": "execute_result"
    }
   ],
   "source": [
    "value=df1.Region.value_counts()\n",
    "value"
   ]
  },
  {
   "cell_type": "code",
   "execution_count": 19,
   "id": "76c9afe0",
   "metadata": {},
   "outputs": [
    {
     "data": {
      "text/plain": [
       "Index(['Middle East & North Africa', 'South Asia', 'South America',\n",
       "       'Sub-Saharan Africa', 'Western Europe', 'Southeast Asia',\n",
       "       'Central America & Caribbean', 'Eastern Europe', 'North America',\n",
       "       'East Asia', 'Central Asia', 'Australasia & Oceania'],\n",
       "      dtype='object')"
      ]
     },
     "execution_count": 19,
     "metadata": {},
     "output_type": "execute_result"
    }
   ],
   "source": [
    "Region=df1.Region.value_counts().index\n",
    "Region"
   ]
  },
  {
   "cell_type": "code",
   "execution_count": 30,
   "id": "35a95de0",
   "metadata": {},
   "outputs": [
    {
     "data": {
      "image/png": "[encoded data removed]",
      "text/plain": [
       "<Figure size 1080x432 with 1 Axes>"
      ]
     },
     "metadata": {
      "needs_background": "light"
     },
     "output_type": "display_data"
    }
   ],
   "source": [
    "plt.figure(figsize=(15,6))\n",
    "plt.bar(Region,value)\n",
    "plt.xlabel('Region')\n",
    "plt.ylabel('Number of Terrorist attacks')\n",
    "plt.title('Regions with Terrorist attacks')\n",
    "plt.xticks(rotation=45)\n",
    "plt.show()"
   ]
  },
  {
   "cell_type": "markdown",
   "id": "530ab9d0",
   "metadata": {},
   "source": [
    "### Most types of Terrorist attacks "
   ]
  },
  {
   "cell_type": "code",
   "execution_count": 23,
   "id": "4627b23f",
   "metadata": {},
   "outputs": [
    {
     "data": {
      "text/plain": [
       "Bombing/Explosion                      87648\n",
       "Armed Assault                          42239\n",
       "Assassination                          19164\n",
       "Hostage Taking (Kidnapping)            11094\n",
       "Facility/Infrastructure Attack         10278\n",
       "Unknown                                 7218\n",
       "Unarmed Assault                          998\n",
       "Hostage Taking (Barricade Incident)      972\n",
       "Hijacking                                596\n",
       "Name: AttackType, dtype: int64"
      ]
     },
     "execution_count": 23,
     "metadata": {},
     "output_type": "execute_result"
    }
   ],
   "source": [
    "Number=df1.AttackType.value_counts()\n",
    "Number"
   ]
  },
  {
   "cell_type": "code",
   "execution_count": 26,
   "id": "2ea05c02",
   "metadata": {},
   "outputs": [
    {
     "data": {
      "text/plain": [
       "Index(['Bombing/Explosion', 'Armed Assault', 'Assassination',\n",
       "       'Hostage Taking (Kidnapping)', 'Facility/Infrastructure Attack',\n",
       "       'Unknown', 'Unarmed Assault', 'Hostage Taking (Barricade Incident)',\n",
       "       'Hijacking'],\n",
       "      dtype='object')"
      ]
     },
     "execution_count": 26,
     "metadata": {},
     "output_type": "execute_result"
    }
   ],
   "source": [
    "AttackType=df1.AttackType.value_counts().index\n",
    "AttackType"
   ]
  },
  {
   "cell_type": "code",
   "execution_count": 31,
   "id": "8f114401",
   "metadata": {},
   "outputs": [
    {
     "data": {
      "image/png": "[encoded data removed]",
      "text/plain": [
       "<Figure size 1080x432 with 1 Axes>"
      ]
     },
     "metadata": {
      "needs_background": "light"
     },
     "output_type": "display_data"
    }
   ],
   "source": [
    "plt.figure(figsize=(15,6))\n",
    "plt.bar(AttackType,Number,color='orchid')\n",
    "plt.xlabel('Attack Type')\n",
    "plt.ylabel('Number of Terrorist attacks')\n",
    "plt.title('Most Types of Terrorist attacks')\n",
    "plt.xticks(rotation=45)\n",
    "plt.show()"
   ]
  },
  {
   "cell_type": "markdown",
   "id": "19979fd1",
   "metadata": {},
   "source": [
    "### Most targeted places "
   ]
  },
  {
   "cell_type": "code",
   "execution_count": 46,
   "id": "62babc8e",
   "metadata": {},
   "outputs": [
    {
     "data": {
      "text/plain": [
       "Civilians                  6441\n",
       "Unknown                    5881\n",
       "Soldiers                   3156\n",
       "Patrol                     2941\n",
       "Checkpoint                 2905\n",
       "Vehicle                    2782\n",
       "Officers                   1787\n",
       "Village                    1678\n",
       "Military Unit              1517\n",
       "Bus                        1330\n",
       "Convoy                     1262\n",
       "Market                     1193\n",
       "Police Station             1189\n",
       "Unit                       1179\n",
       "Base                        885\n",
       "Office                      874\n",
       "House                       824\n",
       "Checkpost                   788\n",
       "Post                        739\n",
       "Mosque                      692\n",
       "Bank                        676\n",
       "Headquarters                668\n",
       "Officer                     632\n",
       "Members                     605\n",
       "Civilian                    605\n",
       "Town                        580\n",
       "High tension line tower     538\n",
       "Soldier                     526\n",
       "unit                        517\n",
       "School                      504\n",
       "Name: Target, dtype: int64"
      ]
     },
     "execution_count": 46,
     "metadata": {},
     "output_type": "execute_result"
    }
   ],
   "source": [
    "count=df1.Target.value_counts()[:30]\n",
    "count"
   ]
  },
  {
   "cell_type": "code",
   "execution_count": 47,
   "id": "26e1c46f",
   "metadata": {},
   "outputs": [
    {
     "data": {
      "text/plain": [
       "Index(['Civilians', 'Unknown', 'Soldiers', 'Patrol', 'Checkpoint', 'Vehicle',\n",
       "       'Officers', 'Village', 'Military Unit', 'Bus', 'Convoy', 'Market',\n",
       "       'Police Station', 'Unit', 'Base', 'Office', 'House', 'Checkpost',\n",
       "       'Post', 'Mosque', 'Bank', 'Headquarters', 'Officer', 'Members',\n",
       "       'Civilian', 'Town', 'High tension line tower', 'Soldier', 'unit',\n",
       "       'School'],\n",
       "      dtype='object')"
      ]
     },
     "execution_count": 47,
     "metadata": {},
     "output_type": "execute_result"
    }
   ],
   "source": [
    "Target=df1.Target.value_counts()[:30].index\n",
    "Target"
   ]
  },
  {
   "cell_type": "code",
   "execution_count": 62,
   "id": "6b6e516b",
   "metadata": {},
   "outputs": [
    {
     "data": {
      "image/png": "[encoded data removed]",
      "text/plain": [
       "<Figure size 1080x432 with 1 Axes>"
      ]
     },
     "metadata": {
      "needs_background": "light"
     },
     "output_type": "display_data"
    }
   ],
   "source": [
    "plt.figure(figsize=(15,6))\n",
    "plt.bar(Target,count,color='hotpink')\n",
    "plt.xlabel('Target')\n",
    "plt.ylabel('Number of Terrorist attacks')\n",
    "plt.title('Most Targeted Places for Terrorist attacks')\n",
    "plt.xticks(rotation=60)\n",
    "plt.show()"
   ]
  },
  {
   "cell_type": "markdown",
   "id": "07015d71",
   "metadata": {},
   "source": [
    "### Groups of most targeted places"
   ]
  },
  {
   "cell_type": "code",
   "execution_count": 56,
   "id": "c2577523",
   "metadata": {},
   "outputs": [
    {
     "data": {
      "text/plain": [
       "Private Citizens & Property       43133\n",
       "Military                          27891\n",
       "Police                            24393\n",
       "Government (General)              21080\n",
       "Business                          20472\n",
       "Transportation                     6745\n",
       "Utilities                          5991\n",
       "Unknown                            5732\n",
       "Religious Figures/Institutions     4412\n",
       "Educational Institution            4286\n",
       "Name: Target_type, dtype: int64"
      ]
     },
     "execution_count": 56,
     "metadata": {},
     "output_type": "execute_result"
    }
   ],
   "source": [
    "counts=df1.Target_type.value_counts()[:10]\n",
    "counts"
   ]
  },
  {
   "cell_type": "code",
   "execution_count": 64,
   "id": "e54dc817",
   "metadata": {},
   "outputs": [],
   "source": [
    "Targettype=df1.Target_type.value_counts()[:10].index"
   ]
  },
  {
   "cell_type": "code",
   "execution_count": 65,
   "id": "98d3abf1",
   "metadata": {},
   "outputs": [
    {
     "data": {
      "image/png": "[encoded data removed]",
      "text/plain": [
       "<Figure size 1080x432 with 1 Axes>"
      ]
     },
     "metadata": {
      "needs_background": "light"
     },
     "output_type": "display_data"
    }
   ],
   "source": [
    "plt.figure(figsize=(15,6))\n",
    "plt.bar(Targettype,counts,color='gray')\n",
    "plt.xlabel('Target type')\n",
    "plt.ylabel('Number of Terrorist attacks')\n",
    "plt.title('Most Targeted types for Terrorist attacks')\n",
    "plt.xticks(rotation=60)\n",
    "plt.show()"
   ]
  },
  {
   "cell_type": "markdown",
   "id": "7c5a6720",
   "metadata": {},
   "source": [
    "### Most types of weapons used in Terrorist attacks"
   ]
  },
  {
   "cell_type": "code",
   "execution_count": 69,
   "id": "5f151658",
   "metadata": {},
   "outputs": [
    {
     "data": {
      "text/plain": [
       "Explosives                                                                     91812\n",
       "Firearms                                                                       57944\n",
       "Unknown                                                                        14997\n",
       "Incendiary                                                                     11061\n",
       "Melee                                                                           3605\n",
       "Chemical                                                                         320\n",
       "Sabotage Equipment                                                               139\n",
       "Vehicle (not to include vehicle-borne explosives, i.e., car or truck bombs)      135\n",
       "Other                                                                            114\n",
       "Biological                                                                        35\n",
       "Name: Weapon_type, dtype: int64"
      ]
     },
     "execution_count": 69,
     "metadata": {},
     "output_type": "execute_result"
    }
   ],
   "source": [
    "total=df1.Weapon_type.value_counts()[:10]\n",
    "total"
   ]
  },
  {
   "cell_type": "code",
   "execution_count": 70,
   "id": "8fed4701",
   "metadata": {},
   "outputs": [],
   "source": [
    "weapontype=df1.Weapon_type.value_counts()[:10].index"
   ]
  },
  {
   "cell_type": "code",
   "execution_count": 71,
   "id": "653b8312",
   "metadata": {},
   "outputs": [
    {
     "data": {
      "image/png": "[encoded data removed]",
      "text/plain": [
       "<Figure size 1080x432 with 1 Axes>"
      ]
     },
     "metadata": {
      "needs_background": "light"
     },
     "output_type": "display_data"
    }
   ],
   "source": [
    "plt.figure(figsize=(15,6))\n",
    "plt.bar(weapontype,total,color='yellowgreen')\n",
    "plt.xlabel('Weapon type')\n",
    "plt.ylabel('Number of Terrorist attacks')\n",
    "plt.title('Most types of weapons used in Terrorist attacks')\n",
    "plt.xticks(rotation=60)\n",
    "plt.show()"
   ]
  },
  {
   "cell_type": "markdown",
   "id": "c467cb86",
   "metadata": {},
   "source": [
    "### Yearly attacks"
   ]
  },
  {
   "cell_type": "code",
   "execution_count": 81,
   "id": "ca6ffe1f",
   "metadata": {},
   "outputs": [
    {
     "data": {
      "text/plain": [
       "Year\n",
       "1970      627\n",
       "1971      466\n",
       "1972      562\n",
       "1973      457\n",
       "1974      576\n",
       "1975      737\n",
       "1976      916\n",
       "1977     1315\n",
       "1978     1506\n",
       "1979     2640\n",
       "1980     2604\n",
       "1981     2543\n",
       "1982     2500\n",
       "1983     2828\n",
       "1984     3450\n",
       "1985     2832\n",
       "1986     2819\n",
       "1987     3157\n",
       "1988     3706\n",
       "1989     4305\n",
       "1990     3864\n",
       "1991     4651\n",
       "1992     5010\n",
       "1994     3401\n",
       "1995     3028\n",
       "1996     3025\n",
       "1997     3111\n",
       "1998      930\n",
       "1999     1395\n",
       "2000     1812\n",
       "2001     1904\n",
       "2002     1330\n",
       "2003     1277\n",
       "2004     1161\n",
       "2005     1998\n",
       "2006     2695\n",
       "2007     3195\n",
       "2008     4635\n",
       "2009     4557\n",
       "2010     4761\n",
       "2011     5010\n",
       "2012     8522\n",
       "2013    12036\n",
       "2014    16903\n",
       "2015    14965\n",
       "2016    13587\n",
       "2017    10898\n",
       "Name: Year, dtype: int64"
      ]
     },
     "execution_count": 81,
     "metadata": {},
     "output_type": "execute_result"
    }
   ],
   "source": [
    "num_attacks=df1.groupby(['Year'])['Year'].count()\n",
    "num_attacks"
   ]
  },
  {
   "cell_type": "code",
   "execution_count": 82,
   "id": "eea1119e",
   "metadata": {},
   "outputs": [
    {
     "data": {
      "image/png": "[encoded data removed]",
      "text/plain": [
       "<Figure size 1080x432 with 1 Axes>"
      ]
     },
     "metadata": {
      "needs_background": "light"
     },
     "output_type": "display_data"
    }
   ],
   "source": [
    "plt.figure(figsize=(15,6))\n",
    "plt.plot(num_attacks.index,num_attacks.values)\n",
    "plt.xlabel('Year')\n",
    "plt.ylabel('Number of Terrorist attacks')\n",
    "plt.title('Yearly Terrorist attacks')\n",
    "plt.show()"
   ]
  },
  {
   "cell_type": "markdown",
   "id": "0ae048d8",
   "metadata": {},
   "source": [
    "Here we can observe that after 2011 the number of terrorist attacks rapidly increases."
   ]
  },
  {
   "cell_type": "markdown",
   "id": "e15d3bfb",
   "metadata": {},
   "source": [
    "### Comparing before 2011 and after 2011"
   ]
  },
  {
   "cell_type": "code",
   "execution_count": 99,
   "id": "2a969d00",
   "metadata": {},
   "outputs": [
    {
     "data": {
      "text/html": [
       "<div>\n",
       "<style scoped>\n",
       "    .dataframe tbody tr th:only-of-type {\n",
       "        vertical-align: middle;\n",
       "    }\n",
       "\n",
       "    .dataframe tbody tr th {\n",
       "        vertical-align: top;\n",
       "    }\n",
       "\n",
       "    .dataframe thead th {\n",
       "        text-align: right;\n",
       "    }\n",
       "</style>\n",
       "<table border=\"1\" class=\"dataframe\">\n",
       "  <thead>\n",
       "    <tr style=\"text-align: right;\">\n",
       "      <th></th>\n",
       "      <th>value</th>\n",
       "    </tr>\n",
       "    <tr>\n",
       "      <th>year</th>\n",
       "      <th></th>\n",
       "    </tr>\n",
       "  </thead>\n",
       "  <tbody>\n",
       "    <tr>\n",
       "      <th>Before 2011</th>\n",
       "      <td>98286</td>\n",
       "    </tr>\n",
       "    <tr>\n",
       "      <th>After 2011</th>\n",
       "      <td>81921</td>\n",
       "    </tr>\n",
       "  </tbody>\n",
       "</table>\n",
       "</div>"
      ],
      "text/plain": [
       "             value\n",
       "year              \n",
       "Before 2011  98286\n",
       "After 2011   81921"
      ]
     },
     "execution_count": 99,
     "metadata": {},
     "output_type": "execute_result"
    }
   ],
   "source": [
    "newdf=pd.DataFrame(data = {\n",
    "     'year' : ['Before 2011','After 2011'],\n",
    "     'value' : [df1[df1.Year < 2011].shape[0],df1[df1.Year >= 2011].shape[0]]})\n",
    "newdf = newdf.set_index('year')\n",
    "newdf"
   ]
  },
  {
   "cell_type": "code",
   "execution_count": 100,
   "id": "06b4024b",
   "metadata": {},
   "outputs": [
    {
     "data": {
      "text/plain": [
       "<AxesSubplot:ylabel='value'>"
      ]
     },
     "execution_count": 100,
     "metadata": {},
     "output_type": "execute_result"
    },
    {
     "data": {
      "image/png": "[encoded data removed]",
      "text/plain": [
       "<Figure size 360x360 with 1 Axes>"
      ]
     },
     "metadata": {},
     "output_type": "display_data"
    }
   ],
   "source": [
    "newdf.plot.pie(y='value',figsize=(5, 5),autopct='%1.1f%%')"
   ]
  },
  {
   "cell_type": "markdown",
   "id": "336f68e2",
   "metadata": {},
   "source": [
    "The percentage of terrorist attacks in 40 years (1970-2010) is 54.5%, and in just 7 years( 2011-2017)is 45.5%.\n"
   ]
  },
  {
   "cell_type": "code",
   "execution_count": 102,
   "id": "ed9534a6",
   "metadata": {},
   "outputs": [
    {
     "data": {
      "text/html": [
       "<div>\n",
       "<style scoped>\n",
       "    .dataframe tbody tr th:only-of-type {\n",
       "        vertical-align: middle;\n",
       "    }\n",
       "\n",
       "    .dataframe tbody tr th {\n",
       "        vertical-align: top;\n",
       "    }\n",
       "\n",
       "    .dataframe thead th {\n",
       "        text-align: right;\n",
       "    }\n",
       "</style>\n",
       "<table border=\"1\" class=\"dataframe\">\n",
       "  <thead>\n",
       "    <tr style=\"text-align: right;\">\n",
       "      <th></th>\n",
       "      <th>Year</th>\n",
       "      <th>Month</th>\n",
       "      <th>Day</th>\n",
       "      <th>Country</th>\n",
       "      <th>State</th>\n",
       "      <th>Region</th>\n",
       "      <th>City</th>\n",
       "      <th>AttackType</th>\n",
       "      <th>Target</th>\n",
       "      <th>Group</th>\n",
       "      <th>Target_type</th>\n",
       "      <th>Weapon_type</th>\n",
       "    </tr>\n",
       "  </thead>\n",
       "  <tbody>\n",
       "    <tr>\n",
       "      <th>1</th>\n",
       "      <td>1970</td>\n",
       "      <td>0</td>\n",
       "      <td>0</td>\n",
       "      <td>Mexico</td>\n",
       "      <td>Federal</td>\n",
       "      <td>North America</td>\n",
       "      <td>Mexico city</td>\n",
       "      <td>Hostage Taking (Kidnapping)</td>\n",
       "      <td>Nadine Chaval, daughter</td>\n",
       "      <td>23rd of September Communist League</td>\n",
       "      <td>Government (Diplomatic)</td>\n",
       "      <td>Unknown</td>\n",
       "    </tr>\n",
       "    <tr>\n",
       "      <th>2</th>\n",
       "      <td>1970</td>\n",
       "      <td>1</td>\n",
       "      <td>0</td>\n",
       "      <td>Philippines</td>\n",
       "      <td>Tarlac</td>\n",
       "      <td>Southeast Asia</td>\n",
       "      <td>Unknown</td>\n",
       "      <td>Assassination</td>\n",
       "      <td>Employee</td>\n",
       "      <td>Unknown</td>\n",
       "      <td>Journalists &amp; Media</td>\n",
       "      <td>Unknown</td>\n",
       "    </tr>\n",
       "    <tr>\n",
       "      <th>3</th>\n",
       "      <td>1970</td>\n",
       "      <td>1</td>\n",
       "      <td>0</td>\n",
       "      <td>Greece</td>\n",
       "      <td>Attica</td>\n",
       "      <td>Western Europe</td>\n",
       "      <td>Athens</td>\n",
       "      <td>Bombing/Explosion</td>\n",
       "      <td>U.S. Embassy</td>\n",
       "      <td>Unknown</td>\n",
       "      <td>Government (Diplomatic)</td>\n",
       "      <td>Explosives</td>\n",
       "    </tr>\n",
       "    <tr>\n",
       "      <th>4</th>\n",
       "      <td>1970</td>\n",
       "      <td>1</td>\n",
       "      <td>0</td>\n",
       "      <td>Japan</td>\n",
       "      <td>Fukouka</td>\n",
       "      <td>East Asia</td>\n",
       "      <td>Fukouka</td>\n",
       "      <td>Facility/Infrastructure Attack</td>\n",
       "      <td>U.S. Consulate</td>\n",
       "      <td>Unknown</td>\n",
       "      <td>Government (Diplomatic)</td>\n",
       "      <td>Incendiary</td>\n",
       "    </tr>\n",
       "    <tr>\n",
       "      <th>5</th>\n",
       "      <td>1970</td>\n",
       "      <td>1</td>\n",
       "      <td>1</td>\n",
       "      <td>United States</td>\n",
       "      <td>Illinois</td>\n",
       "      <td>North America</td>\n",
       "      <td>Cairo</td>\n",
       "      <td>Armed Assault</td>\n",
       "      <td>Cairo Police Headquarters</td>\n",
       "      <td>Black Nationalists</td>\n",
       "      <td>Police</td>\n",
       "      <td>Firearms</td>\n",
       "    </tr>\n",
       "  </tbody>\n",
       "</table>\n",
       "</div>"
      ],
      "text/plain": [
       "   Year  Month  Day        Country     State          Region         City  \\\n",
       "1  1970      0    0         Mexico   Federal   North America  Mexico city   \n",
       "2  1970      1    0    Philippines    Tarlac  Southeast Asia      Unknown   \n",
       "3  1970      1    0         Greece    Attica  Western Europe       Athens   \n",
       "4  1970      1    0          Japan   Fukouka       East Asia      Fukouka   \n",
       "5  1970      1    1  United States  Illinois   North America        Cairo   \n",
       "\n",
       "                       AttackType                     Target  \\\n",
       "1     Hostage Taking (Kidnapping)    Nadine Chaval, daughter   \n",
       "2                   Assassination                   Employee   \n",
       "3               Bombing/Explosion               U.S. Embassy   \n",
       "4  Facility/Infrastructure Attack             U.S. Consulate   \n",
       "5                   Armed Assault  Cairo Police Headquarters   \n",
       "\n",
       "                                Group              Target_type Weapon_type  \n",
       "1  23rd of September Communist League  Government (Diplomatic)     Unknown  \n",
       "2                             Unknown      Journalists & Media     Unknown  \n",
       "3                             Unknown  Government (Diplomatic)  Explosives  \n",
       "4                             Unknown  Government (Diplomatic)  Incendiary  \n",
       "5                  Black Nationalists                   Police    Firearms  "
      ]
     },
     "execution_count": 102,
     "metadata": {},
     "output_type": "execute_result"
    }
   ],
   "source": [
    "before_2011 = df1[df1.Year <= 2011]\n",
    "before_2011.head()"
   ]
  },
  {
   "cell_type": "code",
   "execution_count": 104,
   "id": "e732fc01",
   "metadata": {},
   "outputs": [
    {
     "data": {
      "text/html": [
       "<div>\n",
       "<style scoped>\n",
       "    .dataframe tbody tr th:only-of-type {\n",
       "        vertical-align: middle;\n",
       "    }\n",
       "\n",
       "    .dataframe tbody tr th {\n",
       "        vertical-align: top;\n",
       "    }\n",
       "\n",
       "    .dataframe thead th {\n",
       "        text-align: right;\n",
       "    }\n",
       "</style>\n",
       "<table border=\"1\" class=\"dataframe\">\n",
       "  <thead>\n",
       "    <tr style=\"text-align: right;\">\n",
       "      <th></th>\n",
       "      <th>Year</th>\n",
       "      <th>Month</th>\n",
       "      <th>Day</th>\n",
       "      <th>Country</th>\n",
       "      <th>State</th>\n",
       "      <th>Region</th>\n",
       "      <th>City</th>\n",
       "      <th>AttackType</th>\n",
       "      <th>Target</th>\n",
       "      <th>Group</th>\n",
       "      <th>Target_type</th>\n",
       "      <th>Weapon_type</th>\n",
       "    </tr>\n",
       "  </thead>\n",
       "  <tbody>\n",
       "    <tr>\n",
       "      <th>104778</th>\n",
       "      <td>2012</td>\n",
       "      <td>1</td>\n",
       "      <td>1</td>\n",
       "      <td>Pakistan</td>\n",
       "      <td>Balochistan</td>\n",
       "      <td>South Asia</td>\n",
       "      <td>Quetta</td>\n",
       "      <td>Bombing/Explosion</td>\n",
       "      <td>Paan Shop</td>\n",
       "      <td>Unknown</td>\n",
       "      <td>Business</td>\n",
       "      <td>Explosives</td>\n",
       "    </tr>\n",
       "    <tr>\n",
       "      <th>104779</th>\n",
       "      <td>2012</td>\n",
       "      <td>1</td>\n",
       "      <td>1</td>\n",
       "      <td>Kenya</td>\n",
       "      <td>North Eastern</td>\n",
       "      <td>Sub-Saharan Africa</td>\n",
       "      <td>Garissa</td>\n",
       "      <td>Armed Assault</td>\n",
       "      <td>Bar</td>\n",
       "      <td>Al-Shabaab</td>\n",
       "      <td>Business</td>\n",
       "      <td>Explosives</td>\n",
       "    </tr>\n",
       "    <tr>\n",
       "      <th>104780</th>\n",
       "      <td>2012</td>\n",
       "      <td>1</td>\n",
       "      <td>1</td>\n",
       "      <td>Pakistan</td>\n",
       "      <td>Balochistan</td>\n",
       "      <td>South Asia</td>\n",
       "      <td>Sui</td>\n",
       "      <td>Bombing/Explosion</td>\n",
       "      <td>Soldiers</td>\n",
       "      <td>Baloch Republican Army (BRA)</td>\n",
       "      <td>Military</td>\n",
       "      <td>Explosives</td>\n",
       "    </tr>\n",
       "    <tr>\n",
       "      <th>104781</th>\n",
       "      <td>2012</td>\n",
       "      <td>1</td>\n",
       "      <td>1</td>\n",
       "      <td>Kenya</td>\n",
       "      <td>North Eastern</td>\n",
       "      <td>Sub-Saharan Africa</td>\n",
       "      <td>Garissa</td>\n",
       "      <td>Armed Assault</td>\n",
       "      <td>Bar</td>\n",
       "      <td>Al-Shabaab</td>\n",
       "      <td>Business</td>\n",
       "      <td>Explosives</td>\n",
       "    </tr>\n",
       "    <tr>\n",
       "      <th>104782</th>\n",
       "      <td>2012</td>\n",
       "      <td>1</td>\n",
       "      <td>1</td>\n",
       "      <td>Pakistan</td>\n",
       "      <td>Balochistan</td>\n",
       "      <td>South Asia</td>\n",
       "      <td>Peer Chhatta</td>\n",
       "      <td>Hostage Taking (Kidnapping)</td>\n",
       "      <td>Civilians</td>\n",
       "      <td>Unknown</td>\n",
       "      <td>Private Citizens &amp; Property</td>\n",
       "      <td>Firearms</td>\n",
       "    </tr>\n",
       "  </tbody>\n",
       "</table>\n",
       "</div>"
      ],
      "text/plain": [
       "        Year  Month  Day   Country          State              Region  \\\n",
       "104778  2012      1    1  Pakistan    Balochistan          South Asia   \n",
       "104779  2012      1    1     Kenya  North Eastern  Sub-Saharan Africa   \n",
       "104780  2012      1    1  Pakistan    Balochistan          South Asia   \n",
       "104781  2012      1    1     Kenya  North Eastern  Sub-Saharan Africa   \n",
       "104782  2012      1    1  Pakistan    Balochistan          South Asia   \n",
       "\n",
       "                City                   AttackType     Target  \\\n",
       "104778        Quetta            Bombing/Explosion  Paan Shop   \n",
       "104779       Garissa                Armed Assault        Bar   \n",
       "104780           Sui            Bombing/Explosion   Soldiers   \n",
       "104781       Garissa                Armed Assault        Bar   \n",
       "104782  Peer Chhatta  Hostage Taking (Kidnapping)  Civilians   \n",
       "\n",
       "                               Group                  Target_type Weapon_type  \n",
       "104778                       Unknown                     Business  Explosives  \n",
       "104779                    Al-Shabaab                     Business  Explosives  \n",
       "104780  Baloch Republican Army (BRA)                     Military  Explosives  \n",
       "104781                    Al-Shabaab                     Business  Explosives  \n",
       "104782                       Unknown  Private Citizens & Property    Firearms  "
      ]
     },
     "execution_count": 104,
     "metadata": {},
     "output_type": "execute_result"
    }
   ],
   "source": [
    "after_2011 = df1[df1.Year > 2011]\n",
    "after_2011.head()"
   ]
  },
  {
   "cell_type": "markdown",
   "id": "8d7e9922",
   "metadata": {},
   "source": [
    "### Countrywise terrorist attcks before 2011"
   ]
  },
  {
   "cell_type": "code",
   "execution_count": 105,
   "id": "070e2fec",
   "metadata": {},
   "outputs": [
    {
     "data": {
      "text/plain": [
       "Iraq              7779\n",
       "Colombia          7432\n",
       "India             6878\n",
       "Peru              6011\n",
       "Pakistan          5491\n",
       "El Salvador       5264\n",
       "United Kingdom    4583\n",
       "Philippines       3359\n",
       "Spain             3204\n",
       "Sri Lanka         2907\n",
       "Name: Country, dtype: int64"
      ]
     },
     "execution_count": 105,
     "metadata": {},
     "output_type": "execute_result"
    }
   ],
   "source": [
    "before_2011.Country.value_counts()[:10]\n"
   ]
  },
  {
   "cell_type": "code",
   "execution_count": 108,
   "id": "5330c984",
   "metadata": {},
   "outputs": [
    {
     "data": {
      "image/png": "[encoded data removed]",
      "text/plain": [
       "<Figure size 1080x432 with 1 Axes>"
      ]
     },
     "metadata": {
      "needs_background": "light"
     },
     "output_type": "display_data"
    }
   ],
   "source": [
    "plt.figure(figsize=(15,6))\n",
    "plt.bar(before_2011.Country.value_counts()[:10].index,before_2011.Country.value_counts()[:10],color='orange')\n",
    "plt.xlabel('Country')\n",
    "plt.ylabel('Number of Terrorist attacks')\n",
    "plt.title('Countrywise Terrorist attacks before 2011')\n",
    "plt.xticks(rotation=60)\n",
    "plt.show()"
   ]
  },
  {
   "cell_type": "markdown",
   "id": "2bf26aeb",
   "metadata": {},
   "source": [
    "### Countrywise terrorist attcks after 2011"
   ]
  },
  {
   "cell_type": "code",
   "execution_count": 109,
   "id": "66b7b5f6",
   "metadata": {},
   "outputs": [
    {
     "data": {
      "text/plain": [
       "Iraq           16799\n",
       "Afghanistan     9695\n",
       "Pakistan        8846\n",
       "India           5040\n",
       "Philippines     3542\n",
       "Nigeria         3331\n",
       "Somalia         3173\n",
       "Yemen           2915\n",
       "Libya           2231\n",
       "Syria           2003\n",
       "Name: Country, dtype: int64"
      ]
     },
     "execution_count": 109,
     "metadata": {},
     "output_type": "execute_result"
    }
   ],
   "source": [
    "after_2011.Country.value_counts()[:10]"
   ]
  },
  {
   "cell_type": "code",
   "execution_count": 110,
   "id": "6cdc64c8",
   "metadata": {},
   "outputs": [
    {
     "data": {
      "image/png": "[encoded data removed]",
      "text/plain": [
       "<Figure size 1080x432 with 1 Axes>"
      ]
     },
     "metadata": {
      "needs_background": "light"
     },
     "output_type": "display_data"
    }
   ],
   "source": [
    "plt.figure(figsize=(15,6))\n",
    "plt.bar(after_2011.Country.value_counts()[:10].index,after_2011.Country.value_counts()[:10],color='orange')\n",
    "plt.xlabel('Country')\n",
    "plt.ylabel('Number of Terrorist attacks')\n",
    "plt.title('Countrywise Terrorist attacks after 2011')\n",
    "plt.xticks(rotation=60)\n",
    "plt.show()"
   ]
  },
  {
   "cell_type": "markdown",
   "id": "304c7c31",
   "metadata": {},
   "source": [
    " Here we observe that most terrorist attack cases found in Iraq."
   ]
  },
  {
   "cell_type": "code",
   "execution_count": null,
   "id": "f671b99a",
   "metadata": {},
   "outputs": [],
   "source": []
  }
 ],
 "metadata": {
  "kernelspec": {
   "display_name": "Python 3",
   "language": "python",
   "name": "python3"
  },
  "language_info": {
   "codemirror_mode": {
    "name": "ipython",
    "version": 3
   },
   "file_extension": ".py",
   "mimetype": "text/x-python",
   "name": "python",
   "nbconvert_exporter": "python",
   "pygments_lexer": "ipython3",
   "version": "3.8.8"
  }
 },
 "nbformat": 4,
 "nbformat_minor": 5
}
